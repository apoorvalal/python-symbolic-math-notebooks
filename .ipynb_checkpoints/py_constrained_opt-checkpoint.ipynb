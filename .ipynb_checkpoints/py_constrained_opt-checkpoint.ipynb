{
 "cells": [
  {
   "cell_type": "code",
   "execution_count": 1,
   "metadata": {},
   "outputs": [],
   "source": [
    "from IPython.core.interactiveshell import InteractiveShell\n",
    "InteractiveShell.ast_node_interactivity = 'all'\n",
    "\n",
    "from sympy import *\n",
    "from sympy.plotting import plot"
   ]
  },
  {
   "cell_type": "code",
   "execution_count": 2,
   "metadata": {},
   "outputs": [],
   "source": [
    "from sympy.abc import x, y, z\n",
    "lam = Symbol('lambda')"
   ]
  },
  {
   "cell_type": "code",
   "execution_count": 3,
   "metadata": {},
   "outputs": [],
   "source": [
    "init_printing()"
   ]
  },
  {
   "cell_type": "code",
   "execution_count": 4,
   "metadata": {},
   "outputs": [],
   "source": [
    "def lagrange_solver(f,g):\n",
    "    L         = f - lam * g\n",
    "    gradL     = [diff(L,c) for c in [x,y]]\n",
    "    KKT_eqs   = gradL + [g]\n",
    "    soln_st   = solve(KKT_eqs, [x,y,lam], dict=True)\n",
    "    solutions = [f.subs(p) for p in soln_st]\n",
    "    return(\n",
    "        L,\n",
    "        gradL,\n",
    "        KKT_eqs,\n",
    "        soln_st,\n",
    "        solutions\n",
    "    )"
   ]
  },
  {
   "cell_type": "markdown",
   "metadata": {},
   "source": [
    "# Working Examples"
   ]
  },
  {
   "cell_type": "code",
   "execution_count": 5,
   "metadata": {},
   "outputs": [
    {
     "data": {
      "image/png": "[encoded data removed]",
      "text/latex": [
       "$$\\left ( - \\lambda \\left(x^{2} + y^{2} - 4\\right) + 2 x^{2} + 3 y^{2}, \\quad \\left [ - 2 \\lambda x + 4 x, \\quad - 2 \\lambda y + 6 y\\right ], \\quad \\left [ - 2 \\lambda x + 4 x, \\quad - 2 \\lambda y + 6 y, \\quad x^{2} + y^{2} - 4\\right ], \\quad \\left [ \\left \\{ \\lambda : 2, \\quad x : -2, \\quad y : 0\\right \\}, \\quad \\left \\{ \\lambda : 2, \\quad x : 2, \\quad y : 0\\right \\}, \\quad \\left \\{ \\lambda : 3, \\quad x : 0, \\quad y : -2\\right \\}, \\quad \\left \\{ \\lambda : 3, \\quad x : 0, \\quad y : 2\\right \\}\\right ], \\quad \\left [ 8, \\quad 8, \\quad 12, \\quad 12\\right ]\\right )$$"
      ],
      "text/plain": [
       "⎛    ⎛ 2    2    ⎞      2      2                                ⎡             \n",
       "⎝- λ⋅⎝x  + y  - 4⎠ + 2⋅x  + 3⋅y , [-2⋅λ⋅x + 4⋅x, -2⋅λ⋅y + 6⋅y], ⎣-2⋅λ⋅x + 4⋅x,\n",
       "\n",
       "                2    2    ⎤                                                   \n",
       " -2⋅λ⋅y + 6⋅y, x  + y  - 4⎦, [{λ: 2, x: -2, y: 0}, {λ: 2, x: 2, y: 0}, {λ: 3, \n",
       "\n",
       "                                                 ⎞\n",
       "x: 0, y: -2}, {λ: 3, x: 0, y: 2}], [8, 8, 12, 12]⎠"
      ]
     },
     "execution_count": 5,
     "metadata": {},
     "output_type": "execute_result"
    }
   ],
   "source": [
    "f = 2 * x ** 2 + 3 * y ** 2\n",
    "g = x ** 2 + y ** 2 - 4\n",
    "lagrange_solver(f,g)"
   ]
  },
  {
   "cell_type": "code",
   "execution_count": 6,
   "metadata": {},
   "outputs": [],
   "source": [
    "f = x * y\n",
    "g = z - 2 * x - 4 * y"
   ]
  },
  {
   "cell_type": "code",
   "execution_count": 7,
   "metadata": {},
   "outputs": [
    {
     "data": {
      "image/png": "[encoded data removed]",
      "text/latex": [
       "$$\\left ( - \\lambda \\left(- 2 x - 4 y + z\\right) + x y, \\quad \\left [ 2 \\lambda + y, \\quad 4 \\lambda + x\\right ], \\quad \\left [ 2 \\lambda + y, \\quad 4 \\lambda + x, \\quad - 2 x - 4 y + z\\right ], \\quad \\left [ \\left \\{ \\lambda : - \\frac{z}{16}, \\quad x : \\frac{z}{4}, \\quad y : \\frac{z}{8}\\right \\}\\right ], \\quad \\left [ \\frac{z^{2}}{32}\\right ]\\right )$$"
      ],
      "text/plain": [
       "⎛                                                                             \n",
       "⎜                                                                             \n",
       "⎜-λ⋅(-2⋅x - 4⋅y + z) + x⋅y, [2⋅λ + y, 4⋅λ + x], [2⋅λ + y, 4⋅λ + x, -2⋅x - 4⋅y \n",
       "⎝                                                                             \n",
       "\n",
       "                              ⎡ 2⎤⎞\n",
       "      ⎡⎧   -z      z     z⎫⎤  ⎢z ⎥⎟\n",
       "+ z], ⎢⎨λ: ───, x: ─, y: ─⎬⎥, ⎢──⎥⎟\n",
       "      ⎣⎩    16     4     8⎭⎦  ⎣32⎦⎠"
      ]
     },
     "execution_count": 7,
     "metadata": {},
     "output_type": "execute_result"
    }
   ],
   "source": [
    "lagrange_solver(f, g)"
   ]
  },
  {
   "cell_type": "markdown",
   "metadata": {},
   "source": [
    "## Lagrange breaks"
   ]
  },
  {
   "cell_type": "markdown",
   "metadata": {},
   "source": [
    "feed it a convex f"
   ]
  },
  {
   "cell_type": "code",
   "execution_count": 8,
   "metadata": {},
   "outputs": [],
   "source": [
    "f = -y \n",
    "g = y ** 3 - x ** 2"
   ]
  },
  {
   "cell_type": "code",
   "execution_count": 9,
   "metadata": {},
   "outputs": [
    {
     "data": {
      "image/png": "[encoded data removed]",
      "text/latex": [
       "$$\\left ( - \\lambda \\left(- x^{2} + y^{3}\\right) - y, \\quad \\left [ 2 \\lambda x, \\quad - 3 \\lambda y^{2} - 1\\right ], \\quad \\left [ 2 \\lambda x, \\quad - 3 \\lambda y^{2} - 1, \\quad - x^{2} + y^{3}\\right ], \\quad \\left [ \\right ], \\quad \\left [ \\right ]\\right )$$"
      ],
      "text/plain": [
       "⎛    ⎛   2    3⎞      ⎡              2    ⎤  ⎡              2         2    3⎤ \n",
       "⎝- λ⋅⎝- x  + y ⎠ - y, ⎣2⋅λ⋅x, - 3⋅λ⋅y  - 1⎦, ⎣2⋅λ⋅x, - 3⋅λ⋅y  - 1, - x  + y ⎦,\n",
       "\n",
       "       ⎞\n",
       " [], []⎠"
      ]
     },
     "execution_count": 9,
     "metadata": {},
     "output_type": "execute_result"
    }
   ],
   "source": [
    "lagrange_solver(f, g)"
   ]
  },
  {
   "cell_type": "code",
   "execution_count": 10,
   "metadata": {},
   "outputs": [],
   "source": [
    "f = x * y\n",
    "g = z - 2 * x - 4 * y"
   ]
  },
  {
   "cell_type": "code",
   "execution_count": 11,
   "metadata": {},
   "outputs": [
    {
     "data": {
      "image/png": "[encoded data removed]",
      "text/latex": [
       "$$\\left ( - \\lambda \\left(- 2 x - 4 y + z\\right) + x y, \\quad \\left [ 2 \\lambda + y, \\quad 4 \\lambda + x\\right ], \\quad \\left [ 2 \\lambda + y, \\quad 4 \\lambda + x, \\quad - 2 x - 4 y + z\\right ], \\quad \\left [ \\left \\{ \\lambda : - \\frac{z}{16}, \\quad x : \\frac{z}{4}, \\quad y : \\frac{z}{8}\\right \\}\\right ], \\quad \\left [ \\frac{z^{2}}{32}\\right ]\\right )$$"
      ],
      "text/plain": [
       "⎛                                                                             \n",
       "⎜                                                                             \n",
       "⎜-λ⋅(-2⋅x - 4⋅y + z) + x⋅y, [2⋅λ + y, 4⋅λ + x], [2⋅λ + y, 4⋅λ + x, -2⋅x - 4⋅y \n",
       "⎝                                                                             \n",
       "\n",
       "                              ⎡ 2⎤⎞\n",
       "      ⎡⎧   -z      z     z⎫⎤  ⎢z ⎥⎟\n",
       "+ z], ⎢⎨λ: ───, x: ─, y: ─⎬⎥, ⎢──⎥⎟\n",
       "      ⎣⎩    16     4     8⎭⎦  ⎣32⎦⎠"
      ]
     },
     "execution_count": 11,
     "metadata": {},
     "output_type": "execute_result"
    }
   ],
   "source": [
    "lagrange_solver(f, g)"
   ]
  },
  {
   "cell_type": "code",
   "execution_count": null,
   "metadata": {},
   "outputs": [],
   "source": []
  }
 ],
 "metadata": {
  "kernelspec": {
   "display_name": "Python 3",
   "language": "python",
   "name": "python3"
  },
  "language_info": {
   "codemirror_mode": {
    "name": "ipython",
    "version": 3
   },
   "file_extension": ".py",
   "mimetype": "text/x-python",
   "name": "python",
   "nbconvert_exporter": "python",
   "pygments_lexer": "ipython3",
   "version": "3.7.0"
  }
 },
 "nbformat": 4,
 "nbformat_minor": 2
}
