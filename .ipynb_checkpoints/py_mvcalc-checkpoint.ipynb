{
 "cells": [
  {
   "cell_type": "code",
   "execution_count": 1,
   "metadata": {},
   "outputs": [],
   "source": [
    "import matplotlib.pyplot as plt\n",
    "import seaborn as sns\n",
    "# plt.style.use(\"seaborn-darkgrid\")\n",
    "sns.set(style=\"ticks\", context=\"talk\")\n",
    "plt.style.use(\"dark_background\")\n",
    "\n",
    "from IPython.core.interactiveshell import InteractiveShell\n",
    "InteractiveShell.ast_node_interactivity = 'all'\n",
    "#%%"
   ]
  },
  {
   "cell_type": "code",
   "execution_count": 2,
   "metadata": {},
   "outputs": [],
   "source": [
    "from sympy import *\n",
    "# from scipy import *\n",
    "\n",
    "from sympy.abc import a, b, c, x, y, z, r\n",
    "\n",
    "init_printing()"
   ]
  },
  {
   "cell_type": "markdown",
   "metadata": {},
   "source": [
    "# Multivariable Calc"
   ]
  },
  {
   "cell_type": "code",
   "execution_count": 3,
   "metadata": {},
   "outputs": [],
   "source": [
    "x_1 = Symbol('x_1')\n",
    "x_2 = Symbol('x_2')\n",
    "x_3 = Symbol('x_3')"
   ]
  },
  {
   "cell_type": "code",
   "execution_count": 4,
   "metadata": {},
   "outputs": [],
   "source": [
    "def gradient_fn(fn):\n",
    "    vars = list(fn.free_symbols) # make list of all variables in expression\n",
    "    f_p = []\n",
    "    for v in vars:\n",
    "        f_p.append(diff(fn, v)) # take partial derivative wrt each\n",
    "    gradient = sum(f_p) # sum them up\n",
    "    return(f_p, gradient)"
   ]
  },
  {
   "cell_type": "code",
   "execution_count": 5,
   "metadata": {},
   "outputs": [],
   "source": [
    "fn = x_1**2 * log(x_1) + x_2 * x_1 * x_3 + x_3**2"
   ]
  },
  {
   "cell_type": "code",
   "execution_count": 6,
   "metadata": {},
   "outputs": [
    {
     "data": {
      "image/png": "[encoded data removed]",
      "text/latex": [
       "$$\\left ( \\left [ x_{1} x_{2} + 2 x_{3}, \\quad 2 x_{1} \\log{\\left (x_{1} \\right )} + x_{1} + x_{2} x_{3}, \\quad x_{1} x_{3}\\right ], \\quad x_{1} x_{2} + x_{1} x_{3} + 2 x_{1} \\log{\\left (x_{1} \\right )} + x_{1} + x_{2} x_{3} + 2 x_{3}\\right )$$"
      ],
      "text/plain": [
       "([x₁⋅x₂ + 2⋅x₃, 2⋅x₁⋅log(x₁) + x₁ + x₂⋅x₃, x₁⋅x₃], x₁⋅x₂ + x₁⋅x₃ + 2⋅x₁⋅log(x₁\n",
       ") + x₁ + x₂⋅x₃ + 2⋅x₃)"
      ]
     },
     "execution_count": 6,
     "metadata": {},
     "output_type": "execute_result"
    }
   ],
   "source": [
    "gradient_fn(fn)"
   ]
  },
  {
   "cell_type": "code",
   "execution_count": 7,
   "metadata": {},
   "outputs": [
    {
     "data": {
      "image/png": "[encoded data removed]",
      "text/latex": [
       "$$\\left ( \\left [ 2 x_{3}, \\quad 2 x_{2}, \\quad 2 x_{1}\\right ], \\quad 2 x_{1} + 2 x_{2} + 2 x_{3}\\right )$$"
      ],
      "text/plain": [
       "([2⋅x₃, 2⋅x₂, 2⋅x₁], 2⋅x₁ + 2⋅x₂ + 2⋅x₃)"
      ]
     },
     "execution_count": 7,
     "metadata": {},
     "output_type": "execute_result"
    }
   ],
   "source": [
    "fn = x_1**2 + x_2**2 + x_3**2\n",
    "gradient_fn(fn)"
   ]
  },
  {
   "cell_type": "code",
   "execution_count": 8,
   "metadata": {},
   "outputs": [
    {
     "data": {
      "image/png": "[encoded data removed]",
      "text/latex": [
       "$$\\left ( \\left [ 2 x_{1}^{2} x_{2}^{2} x_{3}, \\quad 2 x_{1}^{2} x_{2} x_{3}^{2}, \\quad 2 x_{1} x_{2}^{2} x_{3}^{2}\\right ], \\quad 2 x_{1}^{2} x_{2}^{2} x_{3} + 2 x_{1}^{2} x_{2} x_{3}^{2} + 2 x_{1} x_{2}^{2} x_{3}^{2}\\right )$$"
      ],
      "text/plain": [
       "⎛⎡    2   2         2      2         2   2⎤      2   2          2      2      \n",
       "⎝⎣2⋅x₁ ⋅x₂ ⋅x₃, 2⋅x₁ ⋅x₂⋅x₃ , 2⋅x₁⋅x₂ ⋅x₃ ⎦, 2⋅x₁ ⋅x₂ ⋅x₃ + 2⋅x₁ ⋅x₂⋅x₃  + 2⋅x\n",
       "\n",
       "    2   2⎞\n",
       "₁⋅x₂ ⋅x₃ ⎠"
      ]
     },
     "execution_count": 8,
     "metadata": {},
     "output_type": "execute_result"
    }
   ],
   "source": [
    "fn = x_1**2 * x_2**2 * x_3**2\n",
    "gradient_fn(fn)"
   ]
  },
  {
   "cell_type": "markdown",
   "metadata": {},
   "source": [
    "## Assignment"
   ]
  },
  {
   "cell_type": "markdown",
   "metadata": {},
   "source": [
    "### P3 "
   ]
  },
  {
   "cell_type": "code",
   "execution_count": 9,
   "metadata": {},
   "outputs": [
    {
     "data": {
      "image/png": "[encoded data removed]",
      "text/latex": [
       "$$\\left ( \\left [ - 8 x_{2}^{3}, \\quad 3\\right ], \\quad - 8 x_{2}^{3} + 3\\right )$$"
      ],
      "text/plain": [
       "⎛⎡     3   ⎤        3    ⎞\n",
       "⎝⎣-8⋅x₂ , 3⎦, - 8⋅x₂  + 3⎠"
      ]
     },
     "execution_count": 9,
     "metadata": {},
     "output_type": "execute_result"
    }
   ],
   "source": [
    "fn = x_1 * 3 - 2 * x_2 ** 4\n",
    "gradient_fn(fn)"
   ]
  },
  {
   "cell_type": "code",
   "execution_count": 10,
   "metadata": {},
   "outputs": [
    {
     "data": {
      "image/png": "[encoded data removed]",
      "text/latex": [
       "$$\\left ( \\left [ 6 x_{1}^{3} x_{2} + 12 x_{1} x_{2}^{3}, \\quad 5 x_{1}^{4} + 9 x_{1}^{2} x_{2}^{2} + 3 x_{2}^{4}\\right ], \\quad 5 x_{1}^{4} + 6 x_{1}^{3} x_{2} + 9 x_{1}^{2} x_{2}^{2} + 12 x_{1} x_{2}^{3} + 3 x_{2}^{4}\\right )$$"
      ],
      "text/plain": [
       "⎛⎡    3              3      4       2   2       4⎤      4       3          2  \n",
       "⎝⎣6⋅x₁ ⋅x₂ + 12⋅x₁⋅x₂ , 5⋅x₁  + 9⋅x₁ ⋅x₂  + 3⋅x₂ ⎦, 5⋅x₁  + 6⋅x₁ ⋅x₂ + 9⋅x₁ ⋅x\n",
       "\n",
       " 2           3       4⎞\n",
       "₂  + 12⋅x₁⋅x₂  + 3⋅x₂ ⎠"
      ]
     },
     "execution_count": 10,
     "metadata": {},
     "output_type": "execute_result"
    }
   ],
   "source": [
    "gradient_fn(x_1**5 + 3*x_1**3*x_2**2 + 3*x_1*x_2**4)"
   ]
  },
  {
   "cell_type": "code",
   "execution_count": 11,
   "metadata": {},
   "outputs": [
    {
     "data": {
      "image/png": "[encoded data removed]",
      "text/latex": [
       "$$\\left ( \\left [ 3 x_{1} e^{3 x_{2}}, \\quad e^{3 x_{2}}\\right ], \\quad 3 x_{1} e^{3 x_{2}} + e^{3 x_{2}}\\right )$$"
      ],
      "text/plain": [
       "⎛⎡      3⋅x₂   3⋅x₂⎤        3⋅x₂    3⋅x₂⎞\n",
       "⎝⎣3⋅x₁⋅ℯ    , ℯ    ⎦, 3⋅x₁⋅ℯ     + ℯ    ⎠"
      ]
     },
     "execution_count": 11,
     "metadata": {},
     "output_type": "execute_result"
    }
   ],
   "source": [
    "gradient_fn(\n",
    "    x_1*exp(3*x_2)\n",
    ")"
   ]
  },
  {
   "cell_type": "code",
   "execution_count": 12,
   "metadata": {},
   "outputs": [
    {
     "data": {
      "image/png": "[encoded data removed]",
      "text/latex": [
       "$$\\left ( \\left [ - \\frac{x_{1} - x_{2}}{\\left(x_{1} + x_{2}\\right)^{2}} - \\frac{1}{x_{1} + x_{2}}, \\quad - \\frac{x_{1} - x_{2}}{\\left(x_{1} + x_{2}\\right)^{2}} + \\frac{1}{x_{1} + x_{2}}\\right ], \\quad - \\frac{2 \\left(x_{1} - x_{2}\\right)}{\\left(x_{1} + x_{2}\\right)^{2}}\\right )$$"
      ],
      "text/plain": [
       "⎛⎡   x₁ - x₂        1        x₁ - x₂        1   ⎤  -2⋅(x₁ - x₂) ⎞\n",
       "⎜⎢- ────────── - ───────, - ────────── + ───────⎥, ─────────────⎟\n",
       "⎜⎢           2   x₁ + x₂             2   x₁ + x₂⎥             2 ⎟\n",
       "⎝⎣  (x₁ + x₂)               (x₁ + x₂)           ⎦    (x₁ + x₂)  ⎠"
      ]
     },
     "execution_count": 12,
     "metadata": {},
     "output_type": "execute_result"
    }
   ],
   "source": [
    "gradient_fn((x_1 - x_2)/(x_1 + x_2))"
   ]
  },
  {
   "cell_type": "code",
   "execution_count": 13,
   "metadata": {},
   "outputs": [
    {
     "data": {
      "image/png": "[encoded data removed]",
      "text/latex": [
       "$$\\left ( \\left [ \\frac{3}{x_{1} + 2 x_{2} + 3 x_{3}}, \\quad \\frac{2}{x_{1} + 2 x_{2} + 3 x_{3}}, \\quad \\frac{1}{x_{1} + 2 x_{2} + 3 x_{3}}\\right ], \\quad \\frac{6}{x_{1} + 2 x_{2} + 3 x_{3}}\\right )$$"
      ],
      "text/plain": [
       "⎛⎡       3                 2                 1        ⎤         6        ⎞\n",
       "⎜⎢────────────────, ────────────────, ────────────────⎥, ────────────────⎟\n",
       "⎝⎣x₁ + 2⋅x₂ + 3⋅x₃  x₁ + 2⋅x₂ + 3⋅x₃  x₁ + 2⋅x₂ + 3⋅x₃⎦  x₁ + 2⋅x₂ + 3⋅x₃⎠"
      ]
     },
     "execution_count": 13,
     "metadata": {},
     "output_type": "execute_result"
    }
   ],
   "source": [
    "gradient_fn(log(x_1 + 2*x_2 + 3*x_3))"
   ]
  },
  {
   "cell_type": "code",
   "execution_count": 14,
   "metadata": {},
   "outputs": [
    {
     "data": {
      "image/png": "[encoded data removed]",
      "text/latex": [
       "$$\\left ( \\left [ x_{1}^{2} x_{2} e^{x_{2} x_{3}}, \\quad x_{1}^{2} x_{3} e^{x_{2} x_{3}}, \\quad 2 x_{1} e^{x_{2} x_{3}}\\right ], \\quad x_{1}^{2} x_{2} e^{x_{2} x_{3}} + x_{1}^{2} x_{3} e^{x_{2} x_{3}} + 2 x_{1} e^{x_{2} x_{3}}\\right )$$"
      ],
      "text/plain": [
       "⎛⎡  2     x₂⋅x₃    2     x₂⋅x₃        x₂⋅x₃⎤    2     x₂⋅x₃     2     x₂⋅x₃   \n",
       "⎝⎣x₁ ⋅x₂⋅ℯ     , x₁ ⋅x₃⋅ℯ     , 2⋅x₁⋅ℯ     ⎦, x₁ ⋅x₂⋅ℯ      + x₁ ⋅x₃⋅ℯ      + \n",
       "\n",
       "      x₂⋅x₃⎞\n",
       "2⋅x₁⋅ℯ     ⎠"
      ]
     },
     "execution_count": 14,
     "metadata": {},
     "output_type": "execute_result"
    }
   ],
   "source": [
    "gradient_fn(x_1**2 * exp(x_2 * x_3))"
   ]
  },
  {
   "cell_type": "code",
   "execution_count": 15,
   "metadata": {},
   "outputs": [
    {
     "data": {
      "image/png": "[encoded data removed]",
      "text/latex": [
       "$$\\left ( \\left [ \\frac{x_{2}}{\\sqrt{x_{1}^{2} + x_{2}^{2}}}, \\quad \\frac{x_{1}}{\\sqrt{x_{1}^{2} + x_{2}^{2}}}\\right ], \\quad \\frac{x_{1}}{\\sqrt{x_{1}^{2} + x_{2}^{2}}} + \\frac{x_{2}}{\\sqrt{x_{1}^{2} + x_{2}^{2}}}\\right )$$"
      ],
      "text/plain": [
       "⎛⎡      x₂              x₁      ⎤        x₁               x₂      ⎞\n",
       "⎜⎢──────────────, ──────────────⎥, ────────────── + ──────────────⎟\n",
       "⎜⎢   ___________     ___________⎥     ___________      ___________⎟\n",
       "⎜⎢  ╱   2     2     ╱   2     2 ⎥    ╱   2     2      ╱   2     2 ⎟\n",
       "⎝⎣╲╱  x₁  + x₂    ╲╱  x₁  + x₂  ⎦  ╲╱  x₁  + x₂     ╲╱  x₁  + x₂  ⎠"
      ]
     },
     "execution_count": 15,
     "metadata": {},
     "output_type": "execute_result"
    },
    {
     "data": {
      "image/png": "[encoded data removed]",
      "text/latex": [
       "$$\\frac{7}{5}$$"
      ],
      "text/plain": [
       "7/5"
      ]
     },
     "execution_count": 15,
     "metadata": {},
     "output_type": "execute_result"
    }
   ],
   "source": [
    "g = gradient_fn(sqrt(x_1 ** 2 + x_2 **2 ))\n",
    "g\n",
    "g[1].subs({x_1:3, x_2 : 4})"
   ]
  },
  {
   "cell_type": "code",
   "execution_count": 16,
   "metadata": {},
   "outputs": [
    {
     "data": {
      "image/png": "[encoded data removed]",
      "text/latex": [
       "$$\\left ( \\left [ e^{x_{1} - x_{2}}, \\quad - \\left(x_{1} + x_{3}\\right) e^{x_{1} - x_{2}}, \\quad \\left(x_{1} + x_{3}\\right) e^{x_{1} - x_{2}} + e^{x_{1} - x_{2}}\\right ], \\quad 2 e^{x_{1} - x_{2}}\\right )$$"
      ],
      "text/plain": [
       "⎛⎡ x₁ - x₂              x₁ - x₂             x₁ - x₂    x₁ - x₂⎤     x₁ - x₂⎞\n",
       "⎝⎣ℯ       , -(x₁ + x₃)⋅ℯ       , (x₁ + x₃)⋅ℯ        + ℯ       ⎦, 2⋅ℯ       ⎠"
      ]
     },
     "execution_count": 16,
     "metadata": {},
     "output_type": "execute_result"
    },
    {
     "data": {
      "image/png": "[encoded data removed]",
      "text/latex": [
       "$$2$$"
      ],
      "text/plain": [
       "2"
      ]
     },
     "execution_count": 16,
     "metadata": {},
     "output_type": "execute_result"
    }
   ],
   "source": [
    "g = gradient_fn((x_1 + x_3) * exp(x_1 - x_2))\n",
    "g\n",
    "g[1].subs({x_1: 1 , x_2 : 1, x_3 : 1})"
   ]
  },
  {
   "cell_type": "markdown",
   "metadata": {},
   "source": [
    "# Multivariate Optimisation"
   ]
  },
  {
   "cell_type": "code",
   "execution_count": 17,
   "metadata": {},
   "outputs": [],
   "source": [
    "def partials(fn):\n",
    "    vars = list(fn.free_symbols) # make list of all variables in expression\n",
    "    f_p = {}\n",
    "    for v in vars:\n",
    "        f_p[v] = (diff(fn, v)) # take partial derivative wrt each\n",
    "    return(f_p)"
   ]
  },
  {
   "cell_type": "markdown",
   "metadata": {},
   "source": [
    "P 3"
   ]
  },
  {
   "cell_type": "markdown",
   "metadata": {},
   "source": [
    "a"
   ]
  },
  {
   "cell_type": "code",
   "execution_count": 18,
   "metadata": {},
   "outputs": [
    {
     "data": {
      "image/png": "[encoded data removed]",
      "text/latex": [
       "$$\\left[\\begin{matrix}12 x^{2} - 6 y^{3} & - 18 x y^{2}\\\\- 18 x y^{2} & - 18 x^{2} y\\end{matrix}\\right]$$"
      ],
      "text/plain": [
       "⎡    2      3         2⎤\n",
       "⎢12⋅x  - 6⋅y   -18⋅x⋅y ⎥\n",
       "⎢                      ⎥\n",
       "⎢         2         2  ⎥\n",
       "⎣  -18⋅x⋅y     -18⋅x ⋅y⎦"
      ]
     },
     "execution_count": 18,
     "metadata": {},
     "output_type": "execute_result"
    }
   ],
   "source": [
    "fn = x**4 - 3*x**2 * y ** 3\n",
    "hessian(fn, (x,y))"
   ]
  },
  {
   "cell_type": "markdown",
   "metadata": {},
   "source": [
    "b"
   ]
  },
  {
   "cell_type": "code",
   "execution_count": 19,
   "metadata": {},
   "outputs": [
    {
     "data": {
      "image/png": "[encoded data removed]",
      "text/latex": [
       "$$\\left[\\begin{matrix}-2 & z & y\\\\z & 0 & x\\\\y & x & 0\\end{matrix}\\right]$$"
      ],
      "text/plain": [
       "⎡-2  z  y⎤\n",
       "⎢        ⎥\n",
       "⎢z   0  x⎥\n",
       "⎢        ⎥\n",
       "⎣y   x  0⎦"
      ]
     },
     "execution_count": 19,
     "metadata": {},
     "output_type": "execute_result"
    }
   ],
   "source": [
    "fn = x * y * z - x **2\n",
    "hessian(fn, (x,y,z))"
   ]
  },
  {
   "cell_type": "markdown",
   "metadata": {},
   "source": [
    "P 4"
   ]
  },
  {
   "cell_type": "markdown",
   "metadata": {},
   "source": [
    "a"
   ]
  },
  {
   "cell_type": "code",
   "execution_count": 20,
   "metadata": {},
   "outputs": [
    {
     "data": {
      "image/png": "[encoded data removed]",
      "text/latex": [
       "$$\\left \\{ x : 4 x^{3} - 4 y, \\quad y : - 4 x + 4 y^{3}\\right \\}$$"
      ],
      "text/plain": [
       "⎧      3                     3⎫\n",
       "⎨x: 4⋅x  - 4⋅y, y: -4⋅x + 4⋅y ⎬\n",
       "⎩                             ⎭"
      ]
     },
     "execution_count": 20,
     "metadata": {},
     "output_type": "execute_result"
    }
   ],
   "source": [
    "fn = x ** 4 + y ** 4 - 4 * x * y + 2\n",
    "p = partials(fn)\n",
    "p"
   ]
  },
  {
   "cell_type": "code",
   "execution_count": 21,
   "metadata": {},
   "outputs": [
    {
     "data": {
      "image/png": "[encoded data removed]",
      "text/latex": [
       "$$\\left [ \\left ( -1, \\quad -1\\right ), \\quad \\left ( 0, \\quad 0\\right ), \\quad \\left ( 1, \\quad 1\\right ), \\quad \\left ( - i, \\quad i\\right ), \\quad \\left ( i, \\quad - i\\right ), \\quad \\left ( \\frac{\\sqrt{2} \\left(-1 + i\\right)}{2}, \\quad \\frac{\\sqrt{2}}{2} + \\frac{\\sqrt{2} i}{2}\\right ), \\quad \\left ( \\frac{\\sqrt{2} \\left(1 - i\\right)}{2}, \\quad - \\frac{\\sqrt{2}}{2} - \\frac{\\sqrt{2} i}{2}\\right ), \\quad \\left ( - \\frac{\\sqrt{2} \\left(1 + i\\right)}{2}, \\quad \\frac{\\sqrt{2}}{2} - \\frac{\\sqrt{2} i}{2}\\right ), \\quad \\left ( \\frac{\\sqrt{2} \\left(1 + i\\right)}{2}, \\quad - \\frac{\\sqrt{2}}{2} + \\frac{\\sqrt{2} i}{2}\\right )\\right ]$$"
      ],
      "text/plain": [
       "⎡                                            ⎛√2⋅(-1 + ⅈ)  √2   √2⋅ⅈ⎞  ⎛√2⋅(1 \n",
       "⎢(-1, -1), (0, 0), (1, 1), (-ⅈ, ⅈ), (ⅈ, -ⅈ), ⎜───────────, ── + ────⎟, ⎜──────\n",
       "⎣                                            ⎝     2       2     2  ⎠  ⎝    2 \n",
       "\n",
       "- ⅈ)    √2   √2⋅ⅈ⎞  ⎛-√2⋅(1 + ⅈ)   √2   √2⋅ⅈ⎞  ⎛√2⋅(1 + ⅈ)    √2   √2⋅ⅈ⎞⎤\n",
       "────, - ── - ────⎟, ⎜────────────, ── - ────⎟, ⎜──────────, - ── + ────⎟⎥\n",
       "        2     2  ⎠  ⎝     2        2     2  ⎠  ⎝    2         2     2  ⎠⎦"
      ]
     },
     "execution_count": 21,
     "metadata": {},
     "output_type": "execute_result"
    }
   ],
   "source": [
    "soln_st = solve(p.values(), [x,y], real=True)\n",
    "soln_st"
   ]
  },
  {
   "cell_type": "code",
   "execution_count": 22,
   "metadata": {},
   "outputs": [
    {
     "data": {
      "image/png": "[encoded data removed]",
      "text/latex": [
       "$$128$$"
      ],
      "text/plain": [
       "128"
      ]
     },
     "execution_count": 22,
     "metadata": {},
     "output_type": "execute_result"
    },
    {
     "data": {
      "image/png": "[encoded data removed]",
      "text/latex": [
       "$$128$$"
      ],
      "text/plain": [
       "128"
      ]
     },
     "execution_count": 22,
     "metadata": {},
     "output_type": "execute_result"
    },
    {
     "data": {
      "image/png": "[encoded data removed]",
      "text/latex": [
       "$$-16$$"
      ],
      "text/plain": [
       "-16"
      ]
     },
     "execution_count": 22,
     "metadata": {},
     "output_type": "execute_result"
    }
   ],
   "source": [
    "h = hessian(fn,(x,y))\n",
    "h.subs({x:1, y:1}).det()\n",
    "h.subs({x:-1, y:-1}).det()\n",
    "h.subs({x:0, y:0}).det()"
   ]
  },
  {
   "cell_type": "markdown",
   "metadata": {},
   "source": [
    "b"
   ]
  },
  {
   "cell_type": "code",
   "execution_count": 23,
   "metadata": {},
   "outputs": [
    {
     "data": {
      "image/png": "[encoded data removed]",
      "text/latex": [
       "$$\\left \\{ x : 2 x y + y^{2} + 1, \\quad y : x^{2} + 2 x y + 1\\right \\}$$"
      ],
      "text/plain": [
       "⎧            2          2            ⎫\n",
       "⎨x: 2⋅x⋅y + y  + 1, y: x  + 2⋅x⋅y + 1⎬\n",
       "⎩                                    ⎭"
      ]
     },
     "execution_count": 23,
     "metadata": {},
     "output_type": "execute_result"
    }
   ],
   "source": [
    "fn = x + y + x ** 2 * y + x * y **2\n",
    "p = partials(fn)\n",
    "p"
   ]
  },
  {
   "cell_type": "code",
   "execution_count": 24,
   "metadata": {},
   "outputs": [
    {
     "data": {
      "image/png": "[encoded data removed]",
      "text/latex": [
       "$$\\left [ \\left ( -1, \\quad 1\\right ), \\quad \\left ( 1, \\quad -1\\right ), \\quad \\left ( - \\frac{\\sqrt{3} i}{3}, \\quad - \\frac{\\sqrt{3} i}{3}\\right ), \\quad \\left ( \\frac{\\sqrt{3} i}{3}, \\quad \\frac{\\sqrt{3} i}{3}\\right )\\right ]$$"
      ],
      "text/plain": [
       "⎡                  ⎛-√3⋅ⅈ   -√3⋅ⅈ ⎞  ⎛√3⋅ⅈ  √3⋅ⅈ⎞⎤\n",
       "⎢(-1, 1), (1, -1), ⎜──────, ──────⎟, ⎜────, ────⎟⎥\n",
       "⎣                  ⎝  3       3   ⎠  ⎝ 3     3  ⎠⎦"
      ]
     },
     "execution_count": 24,
     "metadata": {},
     "output_type": "execute_result"
    }
   ],
   "source": [
    "soln_st = solve(p.values(), [x,y], real=True)\n",
    "soln_st"
   ]
  },
  {
   "cell_type": "code",
   "execution_count": 25,
   "metadata": {},
   "outputs": [
    {
     "data": {
      "image/png": "[encoded data removed]",
      "text/latex": [
       "$$\\left[\\begin{matrix}2 y & 2 x + 2 y\\\\2 x + 2 y & 2 x\\end{matrix}\\right]$$"
      ],
      "text/plain": [
       "⎡   2⋅y     2⋅x + 2⋅y⎤\n",
       "⎢                    ⎥\n",
       "⎣2⋅x + 2⋅y     2⋅x   ⎦"
      ]
     },
     "execution_count": 25,
     "metadata": {},
     "output_type": "execute_result"
    },
    {
     "data": {
      "image/png": "[encoded data removed]",
      "text/latex": [
       "$$-4$$"
      ],
      "text/plain": [
       "-4"
      ]
     },
     "execution_count": 25,
     "metadata": {},
     "output_type": "execute_result"
    },
    {
     "data": {
      "image/png": "[encoded data removed]",
      "text/latex": [
       "$$-4$$"
      ],
      "text/plain": [
       "-4"
      ]
     },
     "execution_count": 25,
     "metadata": {},
     "output_type": "execute_result"
    }
   ],
   "source": [
    "h = hessian(fn,(x,y))\n",
    "h\n",
    "h.subs({x:-1, y:1}).det()\n",
    "h.subs({x:1, y:-1}).det()"
   ]
  },
  {
   "cell_type": "markdown",
   "metadata": {},
   "source": [
    "# Multiple Integral "
   ]
  },
  {
   "cell_type": "code",
   "execution_count": 26,
   "metadata": {},
   "outputs": [
    {
     "data": {
      "image/png": "[encoded data removed]",
      "text/latex": [
       "$$\\frac{19 y^{3}}{3}$$"
      ],
      "text/plain": [
       "    3\n",
       "19⋅y \n",
       "─────\n",
       "  3  "
      ]
     },
     "execution_count": 26,
     "metadata": {},
     "output_type": "execute_result"
    },
    {
     "data": {
      "image/png": "[encoded data removed]",
      "text/latex": [
       "$$\\frac{x^{3} y^{4}}{12}$$"
      ],
      "text/plain": [
       " 3  4\n",
       "x ⋅y \n",
       "─────\n",
       "  12 "
      ]
     },
     "execution_count": 26,
     "metadata": {},
     "output_type": "execute_result"
    },
    {
     "data": {
      "image/png": "[encoded data removed]",
      "text/latex": [
       "$$\\frac{19}{12}$$"
      ],
      "text/plain": [
       "19\n",
       "──\n",
       "12"
      ]
     },
     "execution_count": 26,
     "metadata": {},
     "output_type": "execute_result"
    }
   ],
   "source": [
    "fn = x**2 * y **3\n",
    "integrate(fn, (x,2,3))\n",
    "integrate(fn, x, y)\n",
    "integrate(fn, (x,2,3), (y,0,1))"
   ]
  },
  {
   "cell_type": "code",
   "execution_count": 27,
   "metadata": {},
   "outputs": [
    {
     "data": {
      "image/png": "[encoded data removed]",
      "text/latex": [
       "$$x^{3} \\left(- x^{2} + 1\\right)$$"
      ],
      "text/plain": [
       " 3 ⎛   2    ⎞\n",
       "x ⋅⎝- x  + 1⎠"
      ]
     },
     "execution_count": 27,
     "metadata": {},
     "output_type": "execute_result"
    },
    {
     "data": {
      "image/png": "[encoded data removed]",
      "text/latex": [
       "$$\\frac{x^{4} y^{2}}{4}$$"
      ],
      "text/plain": [
       " 4  2\n",
       "x ⋅y \n",
       "─────\n",
       "  4  "
      ]
     },
     "execution_count": 27,
     "metadata": {},
     "output_type": "execute_result"
    },
    {
     "data": {
      "image/png": "[encoded data removed]",
      "text/latex": [
       "$$\\frac{1}{12}$$"
      ],
      "text/plain": [
       "1/12"
      ]
     },
     "execution_count": 27,
     "metadata": {},
     "output_type": "execute_result"
    }
   ],
   "source": [
    "fn = 2 * x **3 * y\n",
    "integrate(fn, (y,0,sqrt(1-x**2)))\n",
    "integrate(fn, x, y)\n",
    "integrate(fn, (y,0,sqrt(1-x**2)), (x,0,1))"
   ]
  },
  {
   "cell_type": "markdown",
   "metadata": {},
   "source": [
    "# Implicit Differentiation "
   ]
  },
  {
   "cell_type": "code",
   "execution_count": 28,
   "metadata": {},
   "outputs": [
    {
     "data": {
      "image/png": "[encoded data removed]",
      "text/latex": [
       "$$\\frac{x}{3 y}$$"
      ],
      "text/plain": [
       " x \n",
       "───\n",
       "3⋅y"
      ]
     },
     "execution_count": 28,
     "metadata": {},
     "output_type": "execute_result"
    }
   ],
   "source": [
    "fn = 3*x**2 - 9*y**2 -12\n",
    "idiff(fn,y,x)"
   ]
  },
  {
   "cell_type": "code",
   "execution_count": 29,
   "metadata": {},
   "outputs": [
    {
     "data": {
      "image/png": "[encoded data removed]",
      "text/latex": [
       "$$\\left(5 x^{4} - e^{x}\\right) e^{- y}$$"
      ],
      "text/plain": [
       "⎛   4    x⎞  -y\n",
       "⎝5⋅x  - ℯ ⎠⋅ℯ  "
      ]
     },
     "execution_count": 29,
     "metadata": {},
     "output_type": "execute_result"
    }
   ],
   "source": [
    "fn = exp(x) + exp(y) - x**5\n",
    "idiff(fn,y,x)"
   ]
  }
 ],
 "metadata": {
  "kernelspec": {
   "display_name": "Python 3",
   "language": "python",
   "name": "python3"
  },
  "language_info": {
   "codemirror_mode": {
    "name": "ipython",
    "version": 3
   },
   "file_extension": ".py",
   "mimetype": "text/x-python",
   "name": "python",
   "nbconvert_exporter": "python",
   "pygments_lexer": "ipython3",
   "version": "3.7.0"
  }
 },
 "nbformat": 4,
 "nbformat_minor": 2
}
